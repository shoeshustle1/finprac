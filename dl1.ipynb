{
  "cells": [
    {
      "cell_type": "code",
      "execution_count": 50,
      "metadata": {
        "id": "xxTcpQx34jIf"
      },
      "outputs": [],
      "source": [
        "import numpy as np\n",
        "import pandas as pd\n",
        "from sklearn.model_selection import train_test_split\n",
        "from sklearn.preprocessing import StandardScaler\n",
        "from keras.models import Sequential\n",
        "from keras.layers import Dense"
      ]
    },
    {
      "cell_type": "code",
      "execution_count": 51,
      "metadata": {
        "id": "tFG5ri054jIj"
      },
      "outputs": [],
      "source": [
        "df = pd.read_csv('HousingData.csv')\n",
        "df=df.dropna()"
      ]
    },
    {
      "cell_type": "code",
      "execution_count": 52,
      "metadata": {
        "id": "lMmi1TIH4jIj"
      },
      "outputs": [],
      "source": [
        "X = df.drop('MEDV', axis=1).values\n",
        "y = df['MEDV'].values"
      ]
    },
    {
      "cell_type": "code",
      "execution_count": 53,
      "metadata": {
        "id": "d6iDj0t04jIk"
      },
      "outputs": [],
      "source": [
        "X_train, X_test, y_train, y_test = train_test_split(X, y, test_size=0.2, random_state=42)"
      ]
    },
    {
      "cell_type": "code",
      "execution_count": 54,
      "metadata": {
        "id": "YhF-000m4jIk"
      },
      "outputs": [],
      "source": [
        "scaler = StandardScaler()\n",
        "X_train = scaler.fit_transform(X_train)\n",
        "X_test = scaler.transform(X_test)"
      ]
    },
    {
      "cell_type": "code",
      "execution_count": 55,
      "metadata": {
        "id": "GfCC_BFq4jIl"
      },
      "outputs": [],
      "source": [
        "model = Sequential()\n",
        "model.add(Dense(64, activation='relu', input_shape=(X_train.shape[1],)))\n",
        "model.add(Dense(32, activation='relu'))\n",
        "model.add(Dense(1))"
      ]
    },
    {
      "cell_type": "code",
      "execution_count": 56,
      "metadata": {
        "id": "vTVVZJyG4jIl"
      },
      "outputs": [],
      "source": [
        "model.compile(loss='mean_squared_error', optimizer='adam')"
      ]
    },
    {
      "cell_type": "code",
      "execution_count": 57,
      "metadata": {
        "colab": {
          "base_uri": "https://localhost:8080/"
        },
        "id": "imc0F6st4jIm",
        "outputId": "ed7c347a-268a-418c-a397-3740c182efab"
      },
      "outputs": [
        {
          "output_type": "stream",
          "name": "stdout",
          "text": [
            "Epoch 1/100\n",
            "10/10 [==============================] - 1s 2ms/step - loss: 569.7053\n",
            "Epoch 2/100\n",
            "10/10 [==============================] - 0s 2ms/step - loss: 538.1542\n",
            "Epoch 3/100\n",
            "10/10 [==============================] - 0s 2ms/step - loss: 508.2548\n",
            "Epoch 4/100\n",
            "10/10 [==============================] - 0s 2ms/step - loss: 473.7930\n",
            "Epoch 5/100\n",
            "10/10 [==============================] - 0s 2ms/step - loss: 430.6031\n",
            "Epoch 6/100\n",
            "10/10 [==============================] - 0s 3ms/step - loss: 378.3458\n",
            "Epoch 7/100\n",
            "10/10 [==============================] - 0s 2ms/step - loss: 315.4285\n",
            "Epoch 8/100\n",
            "10/10 [==============================] - 0s 4ms/step - loss: 246.9828\n",
            "Epoch 9/100\n",
            "10/10 [==============================] - 0s 2ms/step - loss: 181.3284\n",
            "Epoch 10/100\n",
            "10/10 [==============================] - 0s 2ms/step - loss: 127.6924\n",
            "Epoch 11/100\n",
            "10/10 [==============================] - 0s 2ms/step - loss: 90.5021\n",
            "Epoch 12/100\n",
            "10/10 [==============================] - 0s 4ms/step - loss: 71.6912\n",
            "Epoch 13/100\n",
            "10/10 [==============================] - 0s 2ms/step - loss: 57.2454\n",
            "Epoch 14/100\n",
            "10/10 [==============================] - 0s 2ms/step - loss: 47.1021\n",
            "Epoch 15/100\n",
            "10/10 [==============================] - 0s 3ms/step - loss: 39.1825\n",
            "Epoch 16/100\n",
            "10/10 [==============================] - 0s 2ms/step - loss: 32.9790\n",
            "Epoch 17/100\n",
            "10/10 [==============================] - 0s 2ms/step - loss: 28.6619\n",
            "Epoch 18/100\n",
            "10/10 [==============================] - 0s 2ms/step - loss: 25.2242\n",
            "Epoch 19/100\n",
            "10/10 [==============================] - 0s 2ms/step - loss: 23.0877\n",
            "Epoch 20/100\n",
            "10/10 [==============================] - 0s 2ms/step - loss: 21.3757\n",
            "Epoch 21/100\n",
            "10/10 [==============================] - 0s 2ms/step - loss: 20.1583\n",
            "Epoch 22/100\n",
            "10/10 [==============================] - 0s 2ms/step - loss: 19.2854\n",
            "Epoch 23/100\n",
            "10/10 [==============================] - 0s 2ms/step - loss: 18.4224\n",
            "Epoch 24/100\n",
            "10/10 [==============================] - 0s 2ms/step - loss: 17.7556\n",
            "Epoch 25/100\n",
            "10/10 [==============================] - 0s 2ms/step - loss: 17.1311\n",
            "Epoch 26/100\n",
            "10/10 [==============================] - 0s 2ms/step - loss: 16.6499\n",
            "Epoch 27/100\n",
            "10/10 [==============================] - 0s 2ms/step - loss: 16.1159\n",
            "Epoch 28/100\n",
            "10/10 [==============================] - 0s 2ms/step - loss: 15.6493\n",
            "Epoch 29/100\n",
            "10/10 [==============================] - 0s 3ms/step - loss: 15.2346\n",
            "Epoch 30/100\n",
            "10/10 [==============================] - 0s 3ms/step - loss: 14.8322\n",
            "Epoch 31/100\n",
            "10/10 [==============================] - 0s 2ms/step - loss: 14.4084\n",
            "Epoch 32/100\n",
            "10/10 [==============================] - 0s 2ms/step - loss: 14.0766\n",
            "Epoch 33/100\n",
            "10/10 [==============================] - 0s 2ms/step - loss: 13.7064\n",
            "Epoch 34/100\n",
            "10/10 [==============================] - 0s 2ms/step - loss: 13.4157\n",
            "Epoch 35/100\n",
            "10/10 [==============================] - 0s 2ms/step - loss: 13.1056\n",
            "Epoch 36/100\n",
            "10/10 [==============================] - 0s 2ms/step - loss: 12.8055\n",
            "Epoch 37/100\n",
            "10/10 [==============================] - 0s 2ms/step - loss: 12.5283\n",
            "Epoch 38/100\n",
            "10/10 [==============================] - 0s 3ms/step - loss: 12.2715\n",
            "Epoch 39/100\n",
            "10/10 [==============================] - 0s 2ms/step - loss: 12.0051\n",
            "Epoch 40/100\n",
            "10/10 [==============================] - 0s 2ms/step - loss: 11.8433\n",
            "Epoch 41/100\n",
            "10/10 [==============================] - 0s 4ms/step - loss: 11.5551\n",
            "Epoch 42/100\n",
            "10/10 [==============================] - 0s 3ms/step - loss: 11.3341\n",
            "Epoch 43/100\n",
            "10/10 [==============================] - 0s 4ms/step - loss: 11.1053\n",
            "Epoch 44/100\n",
            "10/10 [==============================] - 0s 4ms/step - loss: 10.9260\n",
            "Epoch 45/100\n",
            "10/10 [==============================] - 0s 3ms/step - loss: 10.7105\n",
            "Epoch 46/100\n",
            "10/10 [==============================] - 0s 4ms/step - loss: 10.5419\n",
            "Epoch 47/100\n",
            "10/10 [==============================] - 0s 4ms/step - loss: 10.3948\n",
            "Epoch 48/100\n",
            "10/10 [==============================] - 0s 3ms/step - loss: 10.2005\n",
            "Epoch 49/100\n",
            "10/10 [==============================] - 0s 3ms/step - loss: 10.0615\n",
            "Epoch 50/100\n",
            "10/10 [==============================] - 0s 4ms/step - loss: 9.9317\n",
            "Epoch 51/100\n",
            "10/10 [==============================] - 0s 3ms/step - loss: 9.7546\n",
            "Epoch 52/100\n",
            "10/10 [==============================] - 0s 3ms/step - loss: 9.6315\n",
            "Epoch 53/100\n",
            "10/10 [==============================] - 0s 4ms/step - loss: 9.5988\n",
            "Epoch 54/100\n",
            "10/10 [==============================] - 0s 6ms/step - loss: 9.4264\n",
            "Epoch 55/100\n",
            "10/10 [==============================] - 0s 4ms/step - loss: 9.3014\n",
            "Epoch 56/100\n",
            "10/10 [==============================] - 0s 4ms/step - loss: 9.1948\n",
            "Epoch 57/100\n",
            "10/10 [==============================] - 0s 4ms/step - loss: 9.0967\n",
            "Epoch 58/100\n",
            "10/10 [==============================] - 0s 3ms/step - loss: 9.0142\n",
            "Epoch 59/100\n",
            "10/10 [==============================] - 0s 4ms/step - loss: 8.8810\n",
            "Epoch 60/100\n",
            "10/10 [==============================] - 0s 4ms/step - loss: 8.8169\n",
            "Epoch 61/100\n",
            "10/10 [==============================] - 0s 3ms/step - loss: 8.6869\n",
            "Epoch 62/100\n",
            "10/10 [==============================] - 0s 3ms/step - loss: 8.6297\n",
            "Epoch 63/100\n",
            "10/10 [==============================] - 0s 3ms/step - loss: 8.5610\n",
            "Epoch 64/100\n",
            "10/10 [==============================] - 0s 3ms/step - loss: 8.4709\n",
            "Epoch 65/100\n",
            "10/10 [==============================] - 0s 3ms/step - loss: 8.4267\n",
            "Epoch 66/100\n",
            "10/10 [==============================] - 0s 3ms/step - loss: 8.3744\n",
            "Epoch 67/100\n",
            "10/10 [==============================] - 0s 3ms/step - loss: 8.2819\n",
            "Epoch 68/100\n",
            "10/10 [==============================] - 0s 3ms/step - loss: 8.2264\n",
            "Epoch 69/100\n",
            "10/10 [==============================] - 0s 4ms/step - loss: 8.1514\n",
            "Epoch 70/100\n",
            "10/10 [==============================] - 0s 3ms/step - loss: 8.0947\n",
            "Epoch 71/100\n",
            "10/10 [==============================] - 0s 4ms/step - loss: 8.0504\n",
            "Epoch 72/100\n",
            "10/10 [==============================] - 0s 3ms/step - loss: 7.9698\n",
            "Epoch 73/100\n",
            "10/10 [==============================] - 0s 3ms/step - loss: 7.9189\n",
            "Epoch 74/100\n",
            "10/10 [==============================] - 0s 3ms/step - loss: 7.8372\n",
            "Epoch 75/100\n",
            "10/10 [==============================] - 0s 4ms/step - loss: 7.8082\n",
            "Epoch 76/100\n",
            "10/10 [==============================] - 0s 3ms/step - loss: 7.7675\n",
            "Epoch 77/100\n",
            "10/10 [==============================] - 0s 3ms/step - loss: 7.7895\n",
            "Epoch 78/100\n",
            "10/10 [==============================] - 0s 3ms/step - loss: 7.7329\n",
            "Epoch 79/100\n",
            "10/10 [==============================] - 0s 3ms/step - loss: 7.6631\n",
            "Epoch 80/100\n",
            "10/10 [==============================] - 0s 3ms/step - loss: 7.5863\n",
            "Epoch 81/100\n",
            "10/10 [==============================] - 0s 4ms/step - loss: 7.5335\n",
            "Epoch 82/100\n",
            "10/10 [==============================] - 0s 4ms/step - loss: 7.5008\n",
            "Epoch 83/100\n",
            "10/10 [==============================] - 0s 3ms/step - loss: 7.4641\n",
            "Epoch 84/100\n",
            "10/10 [==============================] - 0s 3ms/step - loss: 7.4503\n",
            "Epoch 85/100\n",
            "10/10 [==============================] - 0s 3ms/step - loss: 7.3848\n",
            "Epoch 86/100\n",
            "10/10 [==============================] - 0s 3ms/step - loss: 7.3353\n",
            "Epoch 87/100\n",
            "10/10 [==============================] - 0s 4ms/step - loss: 7.2906\n",
            "Epoch 88/100\n",
            "10/10 [==============================] - 0s 4ms/step - loss: 7.2622\n",
            "Epoch 89/100\n",
            "10/10 [==============================] - 0s 4ms/step - loss: 7.2137\n",
            "Epoch 90/100\n",
            "10/10 [==============================] - 0s 3ms/step - loss: 7.1764\n",
            "Epoch 91/100\n",
            "10/10 [==============================] - 0s 4ms/step - loss: 7.1582\n",
            "Epoch 92/100\n",
            "10/10 [==============================] - 0s 4ms/step - loss: 7.1506\n",
            "Epoch 93/100\n",
            "10/10 [==============================] - 0s 4ms/step - loss: 7.1576\n",
            "Epoch 94/100\n",
            "10/10 [==============================] - 0s 4ms/step - loss: 7.0128\n",
            "Epoch 95/100\n",
            "10/10 [==============================] - 0s 4ms/step - loss: 6.9801\n",
            "Epoch 96/100\n",
            "10/10 [==============================] - 0s 4ms/step - loss: 6.9416\n",
            "Epoch 97/100\n",
            "10/10 [==============================] - 0s 3ms/step - loss: 6.8965\n",
            "Epoch 98/100\n",
            "10/10 [==============================] - 0s 4ms/step - loss: 6.8851\n",
            "Epoch 99/100\n",
            "10/10 [==============================] - 0s 4ms/step - loss: 6.8194\n",
            "Epoch 100/100\n",
            "10/10 [==============================] - 0s 4ms/step - loss: 6.8094\n"
          ]
        },
        {
          "output_type": "execute_result",
          "data": {
            "text/plain": [
              "<keras.callbacks.History at 0x7f730e6efac0>"
            ]
          },
          "metadata": {},
          "execution_count": 57
        }
      ],
      "source": [
        "model.fit(X_train, y_train, epochs=100, batch_size=32, verbose=1)"
      ]
    },
    {
      "cell_type": "code",
      "execution_count": 58,
      "metadata": {
        "colab": {
          "base_uri": "https://localhost:8080/"
        },
        "id": "UhQNqht84jIo",
        "outputId": "3f54b2b3-c64d-4b5e-9ef1-9afbfb8c9438"
      },
      "outputs": [
        {
          "output_type": "stream",
          "name": "stdout",
          "text": [
            "Mean Squared Error: 25.016647338867188\n"
          ]
        }
      ],
      "source": [
        "mse = model.evaluate(X_test, y_test, verbose=0)\n",
        "print('Mean Squared Error:', mse)"
      ]
    },
    {
      "cell_type": "code",
      "execution_count": 59,
      "metadata": {
        "colab": {
          "base_uri": "https://localhost:8080/"
        },
        "id": "ENii_pTg4jIq",
        "outputId": "518b7c70-de89-4507-edfa-68e3f1103a10"
      },
      "outputs": [
        {
          "output_type": "stream",
          "name": "stdout",
          "text": [
            "1/1 [==============================] - 0s 62ms/step\n",
            "Predicted price: [[51.99709]]\n"
          ]
        }
      ],
      "source": [
        "new_data = np.array([0.1, 0.2, 0.3, 0.4, 0.5, 0.6, 0.7, 0.8, 0.9, 1.0, 0.1, 0.2, 0.3])\n",
        "#print(len(new_data))\n",
        "new_data_scaled = scaler.transform([new_data])\n",
        "prediction = model.predict([new_data_scaled])\n",
        "print('Predicted price:', prediction)"
      ]
    }
  ],
  "metadata": {
    "kernelspec": {
      "display_name": "Python 3",
      "language": "python",
      "name": "python3"
    },
    "language_info": {
      "codemirror_mode": {
        "name": "ipython",
        "version": 3
      },
      "file_extension": ".py",
      "mimetype": "text/x-python",
      "name": "python",
      "nbconvert_exporter": "python",
      "pygments_lexer": "ipython3",
      "version": "3.10.9"
    },
    "orig_nbformat": 4,
    "vscode": {
      "interpreter": {
        "hash": "e7370f93d1d0cde622a1f8e1c04877d8463912d04d973331ad4851f04de6915a"
      }
    },
    "colab": {
      "provenance": []
    }
  },
  "nbformat": 4,
  "nbformat_minor": 0
}