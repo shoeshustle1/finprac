{
 "cells": [
  {
   "cell_type": "code",
   "execution_count": 7,
   "metadata": {},
   "outputs": [],
   "source": [
    "import numpy as np\n",
    "from tensorflow.keras.datasets import imdb\n",
    "from tensorflow.keras.models import Sequential\n",
    "from tensorflow.keras.layers import Dense, Embedding, Flatten\n",
    "from tensorflow.keras.preprocessing import sequence"
   ]
  },
  {
   "cell_type": "code",
   "execution_count": 8,
   "metadata": {},
   "outputs": [],
   "source": [
    "# Set the maximum number of words to consider in the vocabulary\n",
    "max_words = 5000\n",
    "\n",
    "# Load the IMDB dataset\n",
    "(X_train, y_train), (X_test, y_test) = imdb.load_data(num_words=max_words)\n",
    "\n",
    "# Set the maximum length of the reviews\n",
    "max_length = 500\n",
    "\n",
    "# Pad sequences to have the same length\n",
    "X_train = sequence.pad_sequences(X_train, maxlen=max_length)\n",
    "X_test = sequence.pad_sequences(X_test, maxlen=max_length)"
   ]
  },
  {
   "cell_type": "code",
   "execution_count": 9,
   "metadata": {},
   "outputs": [],
   "source": [
    "# Build the model\n",
    "model = Sequential()\n",
    "model.add(Embedding(max_words, 32, input_length=max_length))\n",
    "model.add(Flatten())\n",
    "model.add(Dense(128, activation='relu'))\n",
    "model.add(Dense(1, activation='sigmoid'))\n",
    "\n",
    "# Compile the model\n",
    "model.compile(loss='binary_crossentropy', optimizer='adam', metrics=['accuracy'])"
   ]
  },
  {
   "cell_type": "code",
   "execution_count": 10,
   "metadata": {},
   "outputs": [
    {
     "name": "stdout",
     "output_type": "stream",
     "text": [
      "Epoch 1/3\n",
      "391/391 [==============================] - 43s 107ms/step - loss: 0.4317 - accuracy: 0.7727 - val_loss: 0.3283 - val_accuracy: 0.8582\n",
      "Epoch 2/3\n",
      "391/391 [==============================] - 41s 105ms/step - loss: 0.1475 - accuracy: 0.9478 - val_loss: 0.3571 - val_accuracy: 0.8675\n",
      "Epoch 3/3\n",
      "391/391 [==============================] - 42s 107ms/step - loss: 0.0319 - accuracy: 0.9920 - val_loss: 0.5073 - val_accuracy: 0.8592\n"
     ]
    },
    {
     "data": {
      "text/plain": [
       "<keras.callbacks.History at 0x215b68a9330>"
      ]
     },
     "execution_count": 10,
     "metadata": {},
     "output_type": "execute_result"
    }
   ],
   "source": [
    "# Train the model\n",
    "model.fit(X_train, y_train, validation_data=(X_test, y_test), epochs=3, batch_size=64)"
   ]
  },
  {
   "cell_type": "code",
   "execution_count": 11,
   "metadata": {},
   "outputs": [
    {
     "name": "stdout",
     "output_type": "stream",
     "text": [
      "Accuracy: 0.8592000007629395\n"
     ]
    }
   ],
   "source": [
    "# Evaluate the model\n",
    "scores = model.evaluate(X_test, y_test, verbose=0)\n",
    "print('Accuracy:', scores[1])\n"
   ]
  },
  {
   "cell_type": "code",
   "execution_count": 14,
   "metadata": {},
   "outputs": [
    {
     "name": "stdout",
     "output_type": "stream",
     "text": [
      "1/1 [==============================] - 0s 46ms/step\n",
      "Review: fantastic!\n",
      "Sentiment: Positive\n",
      "Review: worst movie\n",
      "Sentiment: Negative\n"
     ]
    }
   ],
   "source": [
    "# Predict on new data\n",
    "new_reviews = ['fantastic!', 'worst movie']\n",
    "word_index = imdb.get_word_index()\n",
    "new_sequences = [[word_index.get(word.lower(), 0) for word in review.split()] for review in new_reviews]\n",
    "new_data = sequence.pad_sequences(new_sequences, maxlen=max_length)\n",
    "predictions = model.predict(new_data)\n",
    "for i in range(len(new_reviews)):\n",
    "    sentiment = 'Positive' if predictions[i] >= 0.5 else 'Negative'\n",
    "    print('Review:', new_reviews[i])\n",
    "    print('Sentiment:', sentiment)"
   ]
  }
 ],
 "metadata": {
  "kernelspec": {
   "display_name": "Python 3",
   "language": "python",
   "name": "python3"
  },
  "language_info": {
   "codemirror_mode": {
    "name": "ipython",
    "version": 3
   },
   "file_extension": ".py",
   "mimetype": "text/x-python",
   "name": "python",
   "nbconvert_exporter": "python",
   "pygments_lexer": "ipython3",
   "version": "3.10.5"
  },
  "orig_nbformat": 4
 },
 "nbformat": 4,
 "nbformat_minor": 2
}
