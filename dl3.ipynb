{
 "cells": [
  {
   "cell_type": "code",
   "execution_count": 1,
   "metadata": {},
   "outputs": [],
   "source": [
    "import numpy as np\n",
    "import tensorflow as tf\n",
    "from tensorflow.keras.datasets import fashion_mnist\n",
    "from tensorflow.keras.models import Sequential\n",
    "from tensorflow.keras.layers import Conv2D, MaxPooling2D, Flatten, Dense"
   ]
  },
  {
   "cell_type": "code",
   "execution_count": 2,
   "metadata": {},
   "outputs": [
    {
     "name": "stdout",
     "output_type": "stream",
     "text": [
      "Downloading data from https://storage.googleapis.com/tensorflow/tf-keras-datasets/train-labels-idx1-ubyte.gz\n",
      "29515/29515 [==============================] - 0s 1us/step\n",
      "Downloading data from https://storage.googleapis.com/tensorflow/tf-keras-datasets/train-images-idx3-ubyte.gz\n",
      "26421880/26421880 [==============================] - 2s 0us/step\n",
      "Downloading data from https://storage.googleapis.com/tensorflow/tf-keras-datasets/t10k-labels-idx1-ubyte.gz\n",
      "5148/5148 [==============================] - 0s 0s/step\n",
      "Downloading data from https://storage.googleapis.com/tensorflow/tf-keras-datasets/t10k-images-idx3-ubyte.gz\n",
      "4422102/4422102 [==============================] - 0s 0us/step\n"
     ]
    }
   ],
   "source": [
    "# Load the MNIST Fashion dataset\n",
    "(X_train, y_train), (X_test, y_test) = fashion_mnist.load_data()\n",
    "\n",
    "# Normalize pixel values to be between 0 and 1\n",
    "X_train = X_train / 255.0\n",
    "X_test = X_test / 255.0\n",
    "\n",
    "# Reshape the input data to include the channel dimension (for grayscale images)\n",
    "#X_train = np.expand_dims(X_train, axis=-1)\n",
    "#X_test = np.expand_dims(X_test, axis=-1)"
   ]
  },
  {
   "cell_type": "code",
   "execution_count": 3,
   "metadata": {},
   "outputs": [],
   "source": [
    "# Define the model\n",
    "model = Sequential()\n",
    "model.add(Conv2D(32, (3, 3), activation='relu', input_shape=(28, 28, 1)))\n",
    "model.add(MaxPooling2D((2, 2)))\n",
    "model.add(Conv2D(64, (3, 3), activation='relu'))\n",
    "model.add(MaxPooling2D((2, 2)))\n",
    "model.add(Conv2D(64, (3, 3), activation='relu'))\n",
    "model.add(Flatten())\n",
    "model.add(Dense(64, activation='relu'))\n",
    "model.add(Dense(10, activation='softmax'))"
   ]
  },
  {
   "cell_type": "code",
   "execution_count": 4,
   "metadata": {},
   "outputs": [
    {
     "name": "stdout",
     "output_type": "stream",
     "text": [
      "Epoch 1/10\n",
      "938/938 [==============================] - 66s 67ms/step - loss: 0.5431 - accuracy: 0.8042 - val_loss: 0.4028 - val_accuracy: 0.8477\n",
      "Epoch 2/10\n",
      "938/938 [==============================] - 87s 93ms/step - loss: 0.3444 - accuracy: 0.8758 - val_loss: 0.3326 - val_accuracy: 0.8798\n",
      "Epoch 3/10\n",
      "938/938 [==============================] - 78s 84ms/step - loss: 0.2920 - accuracy: 0.8938 - val_loss: 0.2968 - val_accuracy: 0.8946\n",
      "Epoch 4/10\n",
      "938/938 [==============================] - 68s 72ms/step - loss: 0.2630 - accuracy: 0.9028 - val_loss: 0.2763 - val_accuracy: 0.8990\n",
      "Epoch 5/10\n",
      "938/938 [==============================] - 73s 77ms/step - loss: 0.2367 - accuracy: 0.9133 - val_loss: 0.2726 - val_accuracy: 0.8981\n",
      "Epoch 6/10\n",
      "938/938 [==============================] - 69s 73ms/step - loss: 0.2156 - accuracy: 0.9206 - val_loss: 0.2712 - val_accuracy: 0.9018\n",
      "Epoch 7/10\n",
      "938/938 [==============================] - 80s 85ms/step - loss: 0.1977 - accuracy: 0.9271 - val_loss: 0.2580 - val_accuracy: 0.9048\n",
      "Epoch 8/10\n",
      "938/938 [==============================] - 98s 105ms/step - loss: 0.1812 - accuracy: 0.9326 - val_loss: 0.2605 - val_accuracy: 0.9077\n",
      "Epoch 9/10\n",
      "938/938 [==============================] - 77s 82ms/step - loss: 0.1672 - accuracy: 0.9383 - val_loss: 0.2644 - val_accuracy: 0.9057\n",
      "Epoch 10/10\n",
      "938/938 [==============================] - 58s 62ms/step - loss: 0.1522 - accuracy: 0.9423 - val_loss: 0.2725 - val_accuracy: 0.9084\n"
     ]
    },
    {
     "data": {
      "text/plain": [
       "<keras.callbacks.History at 0x2ce4b1fd990>"
      ]
     },
     "execution_count": 4,
     "metadata": {},
     "output_type": "execute_result"
    }
   ],
   "source": [
    "# Compile the model\n",
    "model.compile(optimizer='adam', loss='sparse_categorical_crossentropy', metrics=['accuracy'])\n",
    "\n",
    "# Train the model\n",
    "model.fit(X_train, y_train, epochs=10, batch_size=64, validation_data=(X_test, y_test))"
   ]
  },
  {
   "cell_type": "code",
   "execution_count": 5,
   "metadata": {},
   "outputs": [
    {
     "name": "stdout",
     "output_type": "stream",
     "text": [
      "313/313 [==============================] - 3s 10ms/step - loss: 0.2725 - accuracy: 0.9084\n",
      "Accuracy: [0.27250564098358154, 0.9083999991416931]\n"
     ]
    }
   ],
   "source": [
    "# Evaluate the model\n",
    "accuracy = model.evaluate(X_test, y_test)\n",
    "print('Accuracy:', accuracy)"
   ]
  }
 ],
 "metadata": {
  "kernelspec": {
   "display_name": "Python 3",
   "language": "python",
   "name": "python3"
  },
  "language_info": {
   "codemirror_mode": {
    "name": "ipython",
    "version": 3
   },
   "file_extension": ".py",
   "mimetype": "text/x-python",
   "name": "python",
   "nbconvert_exporter": "python",
   "pygments_lexer": "ipython3",
   "version": "3.10.5"
  },
  "orig_nbformat": 4
 },
 "nbformat": 4,
 "nbformat_minor": 2
}
